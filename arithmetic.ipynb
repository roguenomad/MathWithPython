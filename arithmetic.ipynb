{
  "metadata": {
    "kernelspec": {
      "name": "python",
      "display_name": "Python (Pyodide)",
      "language": "python"
    },
    "language_info": {
      "codemirror_mode": {
        "name": "python",
        "version": 3
      },
      "file_extension": ".py",
      "mimetype": "text/x-python",
      "name": "python",
      "nbconvert_exporter": "python",
      "pygments_lexer": "ipython3",
      "version": "3.8"
    }
  },
  "nbformat_minor": 4,
  "nbformat": 4,
  "cells": [
    {
      "cell_type": "markdown",
      "source": "# Arithmetic - *Basics*",
      "metadata": {}
    },
    {
      "cell_type": "markdown",
      "source": "### Set a variable equal to a number",
      "metadata": {}
    },
    {
      "cell_type": "markdown",
      "source": "**variable must be called to run the code**",
      "metadata": {}
    },
    {
      "cell_type": "code",
      "source": "x = 7\nx",
      "metadata": {
        "trusted": true
      },
      "outputs": [
        {
          "execution_count": 1,
          "output_type": "execute_result",
          "data": {
            "text/plain": "7"
          },
          "metadata": {}
        }
      ],
      "execution_count": 1
    },
    {
      "cell_type": "code",
      "source": "x - 2",
      "metadata": {
        "trusted": true
      },
      "outputs": [
        {
          "execution_count": 2,
          "output_type": "execute_result",
          "data": {
            "text/plain": "5"
          },
          "metadata": {}
        }
      ],
      "execution_count": 2
    },
    {
      "cell_type": "markdown",
      "source": "## To reassign a variable to a new number",
      "metadata": {}
    },
    {
      "cell_type": "code",
      "source": "x = 10\nx",
      "metadata": {
        "trusted": true
      },
      "outputs": [
        {
          "execution_count": 3,
          "output_type": "execute_result",
          "data": {
            "text/plain": "10"
          },
          "metadata": {}
        }
      ],
      "execution_count": 3
    },
    {
      "cell_type": "markdown",
      "source": "## A variable can also be assigned to the answer of an equation",
      "metadata": {}
    },
    {
      "cell_type": "markdown",
      "source": "*note: running a cell block twice will cause the equation to run twice as well.* ",
      "metadata": {}
    },
    {
      "cell_type": "code",
      "source": "x = x - 2*5\nx",
      "metadata": {
        "trusted": true
      },
      "outputs": [
        {
          "execution_count": 5,
          "output_type": "execute_result",
          "data": {
            "text/plain": "0"
          },
          "metadata": {}
        }
      ],
      "execution_count": 5
    },
    {
      "cell_type": "markdown",
      "source": "**the last equation will be ran unless specified with print(code)**",
      "metadata": {}
    },
    {
      "cell_type": "code",
      "source": "x = 10\ny = 20\nz = 39\n\nprint(x + y*z)\nx - y*z",
      "metadata": {
        "trusted": true
      },
      "outputs": [
        {
          "name": "stdout",
          "text": "790\n",
          "output_type": "stream"
        },
        {
          "execution_count": 6,
          "output_type": "execute_result",
          "data": {
            "text/plain": "-770"
          },
          "metadata": {}
        }
      ],
      "execution_count": 6
    },
    {
      "cell_type": "markdown",
      "source": "## Print out Equations",
      "metadata": {}
    },
    {
      "cell_type": "code",
      "source": "### import your modules",
      "metadata": {
        "trusted": true
      },
      "outputs": [],
      "execution_count": 7
    },
    {
      "cell_type": "code",
      "source": "from IPython.display import display, Math\ndisplay ('4 + 3 = 7')\n\n##convert to string to concatanate\ndisplay ('4+3 = ' + str(4+3))",
      "metadata": {
        "trusted": true
      },
      "outputs": [
        {
          "output_type": "display_data",
          "data": {
            "text/plain": "'4 + 3 = 7'"
          },
          "metadata": {}
        },
        {
          "output_type": "display_data",
          "data": {
            "text/plain": "'4+3 = 7'"
          },
          "metadata": {}
        }
      ],
      "execution_count": 10
    },
    {
      "cell_type": "markdown",
      "source": "**make equations look nice**",
      "metadata": {}
    },
    {
      "cell_type": "code",
      "source": "display(Math('4 + 3 = 7'))",
      "metadata": {
        "trusted": true
      },
      "outputs": [
        {
          "output_type": "display_data",
          "data": {
            "text/plain": "<IPython.core.display.Math object>",
            "text/latex": "$\\displaystyle 4 + 3 = 7$"
          },
          "metadata": {}
        }
      ],
      "execution_count": 11
    },
    {
      "cell_type": "markdown",
      "source": "### equations must be in string form for the Math function to display",
      "metadata": {}
    },
    {
      "cell_type": "code",
      "source": "x = 4\ny = 5\n\ndisplay(Math (str(x) + '+' + str(y) + '=' + str(x+y) ))",
      "metadata": {
        "trusted": true
      },
      "outputs": [
        {
          "output_type": "display_data",
          "data": {
            "text/plain": "<IPython.core.display.Math object>",
            "text/latex": "$\\displaystyle 4+5=9$"
          },
          "metadata": {}
        }
      ],
      "execution_count": 14
    },
    {
      "cell_type": "code",
      "source": "display(Math ('%g+%g = %g' %(x,y, x+y) ))",
      "metadata": {
        "trusted": true
      },
      "outputs": [
        {
          "output_type": "display_data",
          "data": {
            "text/plain": "<IPython.core.display.Math object>",
            "text/latex": "$\\displaystyle 4+5 = 9$"
          },
          "metadata": {}
        }
      ],
      "execution_count": 16
    },
    {
      "cell_type": "markdown",
      "source": "**to use latex in Python**",
      "metadata": {}
    },
    {
      "cell_type": "code",
      "source": "display(Math ( '\\\\frac{4}{5}' ))",
      "metadata": {
        "trusted": true
      },
      "outputs": [
        {
          "output_type": "display_data",
          "data": {
            "text/plain": "<IPython.core.display.Math object>",
            "text/latex": "$\\displaystyle \\frac{4}{5}$"
          },
          "metadata": {}
        }
      ],
      "execution_count": 17
    },
    {
      "cell_type": "markdown",
      "source": "## Exponents ",
      "metadata": {}
    },
    {
      "cell_type": "markdown",
      "source": "### The law of exponents",
      "metadata": {}
    },
    {
      "cell_type": "markdown",
      "source": "*in LaTeX*",
      "metadata": {}
    },
    {
      "cell_type": "code",
      "source": "display(Math ( '3^2 = 3 \\\\times 3' ))\ndisplay(Math ( '3^4 = 3 \\\\times 3 \\\\times 3 \\\\times 3' ))\ndisplay(Math ( '3^2 \\\\times 3^4 = 3^{2+4} = 3 \\\\times 3 \\\\times 3 \\\\times 3 \\\\times 3 \\\\times 3' ))",
      "metadata": {
        "trusted": true
      },
      "outputs": [
        {
          "output_type": "display_data",
          "data": {
            "text/plain": "<IPython.core.display.Math object>",
            "text/latex": "$\\displaystyle 3^2 = 3 \\times 3$"
          },
          "metadata": {}
        },
        {
          "output_type": "display_data",
          "data": {
            "text/plain": "<IPython.core.display.Math object>",
            "text/latex": "$\\displaystyle 3^4 = 3 \\times 3 \\times 3 \\times 3$"
          },
          "metadata": {}
        },
        {
          "output_type": "display_data",
          "data": {
            "text/plain": "<IPython.core.display.Math object>",
            "text/latex": "$\\displaystyle 3^2 \\times 3^4 = 3^{2+4} = 3 \\times 3 \\times 3 \\times 3 \\times 3 \\times 3$"
          },
          "metadata": {}
        }
      ],
      "execution_count": 27
    },
    {
      "cell_type": "markdown",
      "source": "*law of exponents says only like terms can be added*",
      "metadata": {}
    },
    {
      "cell_type": "code",
      "source": "display(Math ( '3^2 \\\\times 4^3 = 3 \\\\times 3 \\\\times 4 \\\\times 4 \\\\times 4' ))",
      "metadata": {
        "trusted": true
      },
      "outputs": [
        {
          "output_type": "display_data",
          "data": {
            "text/plain": "<IPython.core.display.Math object>",
            "text/latex": "$\\displaystyle 3^2 \\times 4^3 = 3 \\times 3 \\times 4 \\times 4 \\times 4$"
          },
          "metadata": {}
        }
      ],
      "execution_count": 29
    },
    {
      "cell_type": "markdown",
      "source": "### Computing powers in python",
      "metadata": {}
    },
    {
      "cell_type": "markdown",
      "source": "*Use a double asterisk for exponents*",
      "metadata": {}
    },
    {
      "cell_type": "code",
      "source": "3**2",
      "metadata": {
        "trusted": true
      },
      "outputs": [
        {
          "execution_count": 30,
          "output_type": "execute_result",
          "data": {
            "text/plain": "9"
          },
          "metadata": {}
        }
      ],
      "execution_count": 30
    },
    {
      "cell_type": "code",
      "source": "x = 6\n3 ** x",
      "metadata": {
        "trusted": true
      },
      "outputs": [
        {
          "execution_count": 31,
          "output_type": "execute_result",
          "data": {
            "text/plain": "729"
          },
          "metadata": {}
        }
      ],
      "execution_count": 31
    },
    {
      "cell_type": "markdown",
      "source": "*compute square roots by a power*",
      "metadata": {}
    },
    {
      "cell_type": "code",
      "source": "4**1/2",
      "metadata": {
        "trusted": true
      },
      "outputs": [
        {
          "execution_count": 33,
          "output_type": "execute_result",
          "data": {
            "text/plain": "2.0"
          },
          "metadata": {}
        }
      ],
      "execution_count": 33
    },
    {
      "cell_type": "markdown",
      "source": "### For-loops to compute powers",
      "metadata": {}
    },
    {
      "cell_type": "code",
      "source": "###basic idea of a for-loop\n\n##Repeat X times:\n    #this\n    #and this\n\nfor i in [0, 1, 2, 3]:\n    print(i*2)",
      "metadata": {
        "trusted": true
      },
      "outputs": [
        {
          "name": "stdout",
          "text": "0\n2\n4\n6\n",
          "output_type": "stream"
        }
      ],
      "execution_count": 42
    },
    {
      "cell_type": "code",
      "source": "list( range(0,3) )",
      "metadata": {
        "trusted": true
      },
      "outputs": [
        {
          "execution_count": 43,
          "output_type": "execute_result",
          "data": {
            "text/plain": "[0, 1, 2]"
          },
          "metadata": {}
        }
      ],
      "execution_count": 43
    },
    {
      "cell_type": "code",
      "source": "for querty in range(0,3):\n    print('This is the %gth iteration.' %querty)",
      "metadata": {
        "trusted": true
      },
      "outputs": [
        {
          "name": "stdout",
          "text": "This is the 0th iteration.\nThis is the 1th iteration.\nThis is the 2th iteration.\n",
          "output_type": "stream"
        }
      ],
      "execution_count": 44
    },
    {
      "cell_type": "markdown",
      "source": "### Power of squares equation",
      "metadata": {}
    },
    {
      "cell_type": "code",
      "source": "#for each number in range(0,5), print out the number to the power of 2\nfor t in range(0,5):\n    num = t**2\n    print(num)",
      "metadata": {
        "trusted": true
      },
      "outputs": [
        {
          "name": "stdout",
          "text": "0\n1\n4\n9\n16\n",
          "output_type": "stream"
        }
      ],
      "execution_count": 47
    },
    {
      "cell_type": "markdown",
      "source": "*Exercise*",
      "metadata": {}
    },
    {
      "cell_type": "code",
      "source": "base = 2\n\nfor i in range(0,10):\n    print('%g to the power of %g is %g' %(base, i, base**i))",
      "metadata": {
        "trusted": true
      },
      "outputs": [
        {
          "name": "stdout",
          "text": "2 to the power of 0 is 1\n2 to the power of 1 is 2\n2 to the power of 2 is 4\n2 to the power of 3 is 8\n2 to the power of 4 is 16\n2 to the power of 5 is 32\n2 to the power of 6 is 64\n2 to the power of 7 is 128\n2 to the power of 8 is 256\n2 to the power of 9 is 512\n",
          "output_type": "stream"
        }
      ],
      "execution_count": 57
    },
    {
      "cell_type": "markdown",
      "source": "### Order of operations",
      "metadata": {}
    },
    {
      "cell_type": "markdown",
      "source": "###\n**P**arentheses\n**E**xponents\n**M**ultiplication\n**D**ivision\n**A**ddition\n**S**ubtraction\n###",
      "metadata": {}
    },
    {
      "cell_type": "markdown",
      "source": "### Booleans",
      "metadata": {}
    },
    {
      "cell_type": "code",
      "source": "b = 10 > 3*3\nprint(b)",
      "metadata": {
        "trusted": true
      },
      "outputs": [
        {
          "name": "stdout",
          "text": "True\n",
          "output_type": "stream"
        }
      ],
      "execution_count": 62
    },
    {
      "cell_type": "code",
      "source": "4 <= 2+2+1",
      "metadata": {
        "trusted": true
      },
      "outputs": [
        {
          "execution_count": 63,
          "output_type": "execute_result",
          "data": {
            "text/plain": "True"
          },
          "metadata": {}
        }
      ],
      "execution_count": 63
    },
    {
      "cell_type": "code",
      "source": "4 == 2 + 2",
      "metadata": {
        "trusted": true
      },
      "outputs": [
        {
          "execution_count": 64,
          "output_type": "execute_result",
          "data": {
            "text/plain": "True"
          },
          "metadata": {}
        }
      ],
      "execution_count": 64
    },
    {
      "cell_type": "code",
      "source": "theTest = 4 == 2+3\nprint(theTest)",
      "metadata": {
        "trusted": true
      },
      "outputs": [
        {
          "name": "stdout",
          "text": "False\n",
          "output_type": "stream"
        }
      ],
      "execution_count": 65
    },
    {
      "cell_type": "markdown",
      "source": "### If-statements and Logical Operators",
      "metadata": {}
    },
    {
      "cell_type": "code",
      "source": "if 4+2==6:\n    print('true')\nprint(4+2)",
      "metadata": {
        "trusted": true
      },
      "outputs": [
        {
          "name": "stdout",
          "text": "true\n6\n",
          "output_type": "stream"
        }
      ],
      "execution_count": 70
    },
    {
      "cell_type": "code",
      "source": "if 4+2==6:\n    print('true')\nelse:\n    print(4+2)",
      "metadata": {
        "trusted": true
      },
      "outputs": [
        {
          "name": "stdout",
          "text": "true\n",
          "output_type": "stream"
        }
      ],
      "execution_count": 71
    },
    {
      "cell_type": "code",
      "source": "x1 = 3\nx2 = 3\n\nif x1 > x2:\n    print('%g is greater than %g' %(x1,x2))\nelif x1 < x2:\n    print('%g is less than %g' %(x1,x2)) \nelse:\n    print('%g is equal to %g' %(x1,x2))",
      "metadata": {
        "trusted": true
      },
      "outputs": [
        {
          "name": "stdout",
          "text": "3 is equal to 3\n",
          "output_type": "stream"
        }
      ],
      "execution_count": 81
    },
    {
      "cell_type": "markdown",
      "source": "*Exercise*",
      "metadata": {}
    },
    {
      "cell_type": "code",
      "source": "for i in range(0,4):\n    for j in range (0,5):\n        if i > 0 and j > 0:\n            display(Math('%g^{-%g} = %g' %(i, j, i**-j)))\n    ",
      "metadata": {
        "trusted": true
      },
      "outputs": [
        {
          "output_type": "display_data",
          "data": {
            "text/plain": "<IPython.core.display.Math object>",
            "text/latex": "$\\displaystyle 1^{-1} = 1$"
          },
          "metadata": {}
        },
        {
          "output_type": "display_data",
          "data": {
            "text/plain": "<IPython.core.display.Math object>",
            "text/latex": "$\\displaystyle 1^{-2} = 1$"
          },
          "metadata": {}
        },
        {
          "output_type": "display_data",
          "data": {
            "text/plain": "<IPython.core.display.Math object>",
            "text/latex": "$\\displaystyle 1^{-3} = 1$"
          },
          "metadata": {}
        },
        {
          "output_type": "display_data",
          "data": {
            "text/plain": "<IPython.core.display.Math object>",
            "text/latex": "$\\displaystyle 1^{-4} = 1$"
          },
          "metadata": {}
        },
        {
          "output_type": "display_data",
          "data": {
            "text/plain": "<IPython.core.display.Math object>",
            "text/latex": "$\\displaystyle 2^{-1} = 0.5$"
          },
          "metadata": {}
        },
        {
          "output_type": "display_data",
          "data": {
            "text/plain": "<IPython.core.display.Math object>",
            "text/latex": "$\\displaystyle 2^{-2} = 0.25$"
          },
          "metadata": {}
        },
        {
          "output_type": "display_data",
          "data": {
            "text/plain": "<IPython.core.display.Math object>",
            "text/latex": "$\\displaystyle 2^{-3} = 0.125$"
          },
          "metadata": {}
        },
        {
          "output_type": "display_data",
          "data": {
            "text/plain": "<IPython.core.display.Math object>",
            "text/latex": "$\\displaystyle 2^{-4} = 0.0625$"
          },
          "metadata": {}
        },
        {
          "output_type": "display_data",
          "data": {
            "text/plain": "<IPython.core.display.Math object>",
            "text/latex": "$\\displaystyle 3^{-1} = 0.333333$"
          },
          "metadata": {}
        },
        {
          "output_type": "display_data",
          "data": {
            "text/plain": "<IPython.core.display.Math object>",
            "text/latex": "$\\displaystyle 3^{-2} = 0.111111$"
          },
          "metadata": {}
        },
        {
          "output_type": "display_data",
          "data": {
            "text/plain": "<IPython.core.display.Math object>",
            "text/latex": "$\\displaystyle 3^{-3} = 0.037037$"
          },
          "metadata": {}
        },
        {
          "output_type": "display_data",
          "data": {
            "text/plain": "<IPython.core.display.Math object>",
            "text/latex": "$\\displaystyle 3^{-4} = 0.0123457$"
          },
          "metadata": {}
        }
      ],
      "execution_count": 91
    },
    {
      "cell_type": "code",
      "source": "",
      "metadata": {
        "trusted": true
      },
      "outputs": [],
      "execution_count": null
    }
  ]
}